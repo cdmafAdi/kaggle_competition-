{
 "cells": [
  {
   "cell_type": "markdown",
   "metadata": {},
   "source": [
    "# My First Colab Notebook\n",
    "This was created on GitHub!"
   ]
  },
  {
   "cell_type": "code",
   "metadata": {},
   "source": [
    "print('Hello from Colab!')"
   ],
   "execution_count": null,
   "outputs": []
  }
 ],
 "metadata": {
  "kernelspec": {
   "display_name": "Python 3",
   "language": "python",
   "name": "python3"
  },
  "language_info": {
   "name": "python",
   "version": "3.x"
  }
 },
 "nbformat": 4,
 "nbformat_minor": 2
} 
